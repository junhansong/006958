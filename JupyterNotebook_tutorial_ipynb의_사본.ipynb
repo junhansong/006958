{
  "nbformat": 4,
  "nbformat_minor": 0,
  "metadata": {
    "colab": {
      "name": "JupyterNotebook_tutorial.ipynb의 사본",
      "provenance": [],
      "authorship_tag": "ABX9TyMsykJhfkYEYe4H6sW5/Bmw",
      "include_colab_link": true
    },
    "kernelspec": {
      "name": "python3",
      "display_name": "Python 3"
    }
  },
  "cells": [
    {
      "cell_type": "markdown",
      "metadata": {
        "id": "view-in-github",
        "colab_type": "text"
      },
      "source": [
        "<a href=\"https://colab.research.google.com/github/junhansong/006958/blob/master/JupyterNotebook_tutorial_ipynb%EC%9D%98_%EC%82%AC%EB%B3%B8.ipynb\" target=\"_parent\"><img src=\"https://colab.research.google.com/assets/colab-badge.svg\" alt=\"Open In Colab\"/></a>"
      ]
    },
    {
      "cell_type": "markdown",
      "metadata": {
        "id": "Ir_ThOMU3FPS",
        "colab_type": "text"
      },
      "source": [
        "# Jupyter Tutorial\n",
        "사실은 내가 보기위한 마크다운 문법 설명 예제\n",
        "\n",
        "[마트다운 문법설명-링크, 이미지 파트](https://gist.github.com/ninanung/2b81a5db946c26c98c573e3662a92b62)\n",
        "## 1. What is Jupyter Notebook?\n",
        "## 2. Live Code example\n",
        "## 3. Equations \n",
        "## 4. Visualization\n",
        "### 4.1 image\n",
        "### 4.2 Video\n",
        "### 4.3 Table\n",
        "### 4.4 Chart\n",
        "## 5. Performance check\n",
        " "
      ]
    },
    {
      "cell_type": "markdown",
      "metadata": {
        "id": "aLy-lsKz-ewE",
        "colab_type": "text"
      },
      "source": [
        "\n",
        "## 1. What is Jupyter Notebook?\n",
        "------------------------------------\n",
        "The Jupyter Notebook is an open-source web application that allows you to create and share documents that contain live code, equations, visualizations and explanatory text. Uses include: data cleaning and transformation, numerical simulation, statistical modeling, machine learning and much more.\n",
        "------------------------------------\n"
      ]
    },
    {
      "cell_type": "markdown",
      "metadata": {
        "id": "w4Kj_WO739dT",
        "colab_type": "text"
      },
      "source": [
        "##2. Live Code example\n"
      ]
    },
    {
      "cell_type": "code",
      "metadata": {
        "id": "B95rE9xG-mlf",
        "colab_type": "code",
        "colab": {}
      },
      "source": [
        "# adding two parameter\n",
        "def add(a,b):\n",
        "    return a+b\n",
        "add(1,3)\n"
      ],
      "execution_count": 0,
      "outputs": []
    },
    {
      "cell_type": "markdown",
      "metadata": {
        "id": "Tf4nWyts4AMj",
        "colab_type": "text"
      },
      "source": [
        "## 3. Equations\n",
        "------------------------------------\n",
        "# 기존 주석 결과 표현\n",
        "sqrt(x^2+y^2+z^2) sqrt는 제곱근, Square root의 줄임말\n",
        "# 마크다운 문법 적용 결과 표현\n",
        "This expression $\\sqrt{3x-1}+(1+x)^2$ is an example of a TeX inline equation\n",
        "\n",
        "[More Examples click here](https://jupyter-notebook.readthedocs.io/en/stable/examples/Notebook/Typesetting%20Equations.html)\n",
        "------------------------------------\n"
      ]
    },
    {
      "cell_type": "markdown",
      "metadata": {
        "id": "XUN_i3u8_rkc",
        "colab_type": "text"
      },
      "source": [
        "## 4. Visualization\n",
        "### 4.1 image"
      ]
    },
    {
      "cell_type": "code",
      "metadata": {
        "id": "z1vtRgAR4B7i",
        "colab_type": "code",
        "colab": {}
      },
      "source": [
        "from IPython.display import Image\n",
        "Image(url=\"https://raw.githubusercontent.com/jupyter/jupyter/master/docs/source/_static/_images/jupyter.png\", width=400, height=100)\n"
      ],
      "execution_count": 0,
      "outputs": []
    },
    {
      "cell_type": "markdown",
      "metadata": {
        "id": "ZXa2uucb_uKq",
        "colab_type": "text"
      },
      "source": [
        "### 4.2 Video"
      ]
    },
    {
      "cell_type": "markdown",
      "metadata": {
        "id": "uRa0HpbA4GG3",
        "colab_type": "text"
      },
      "source": [
        "------------------------------------\n"
      ]
    },
    {
      "cell_type": "code",
      "metadata": {
        "id": "W_l-1KWJ4G11",
        "colab_type": "code",
        "colab": {}
      },
      "source": [
        "from IPython.display import YouTubeVideo\n",
        "YouTubeVideo('vJwrhhL5f8Y')\n"
      ],
      "execution_count": 0,
      "outputs": []
    },
    {
      "cell_type": "markdown",
      "metadata": {
        "id": "-0oqu4_-_5kc",
        "colab_type": "text"
      },
      "source": [
        "### 4.3 Table"
      ]
    },
    {
      "cell_type": "markdown",
      "metadata": {
        "id": "w_pFt2ec4Hqu",
        "colab_type": "text"
      },
      "source": [
        "------------------------------------\n"
      ]
    },
    {
      "cell_type": "code",
      "metadata": {
        "id": "GPjAX-FY4IOD",
        "colab_type": "code",
        "colab": {}
      },
      "source": [
        "import pandas as pd\n",
        "url=\"https://raw.githubusercontent.com/cs109/2014_data/master/countries.csv\"\n",
        "pd.read_csv(url, nrows=10)\n"
      ],
      "execution_count": 0,
      "outputs": []
    },
    {
      "cell_type": "markdown",
      "metadata": {
        "id": "rwYcQJIDACYl",
        "colab_type": "text"
      },
      "source": [
        "### 4.4 Chart"
      ]
    },
    {
      "cell_type": "markdown",
      "metadata": {
        "id": "-o23dd2B4JB3",
        "colab_type": "text"
      },
      "source": [
        "-------------------------------------\n"
      ]
    },
    {
      "cell_type": "code",
      "metadata": {
        "id": "jHvJG4Qi4JrE",
        "colab_type": "code",
        "colab": {}
      },
      "source": [
        "import matplotlib.pyplot as plt\n",
        "plt.plot([1,2,3,4])\n",
        "plt.ylabel('some numbers')\n",
        "plt.show()\n",
        "\n"
      ],
      "execution_count": 0,
      "outputs": []
    },
    {
      "cell_type": "markdown",
      "metadata": {
        "id": "VrMJrDlO4R2n",
        "colab_type": "text"
      },
      "source": [
        "[More Examples click here](https://matplotlib.org/examples/index.html)\n"
      ]
    },
    {
      "cell_type": "markdown",
      "metadata": {
        "id": "s58Uv29h4Tmn",
        "colab_type": "text"
      },
      "source": [
        "-------------------------------------\n"
      ]
    },
    {
      "cell_type": "markdown",
      "metadata": {
        "id": "wmkn3OmJAO78",
        "colab_type": "text"
      },
      "source": [
        "## 5. Performance check"
      ]
    },
    {
      "cell_type": "code",
      "metadata": {
        "id": "XWG4tPih4UMU",
        "colab_type": "code",
        "colab": {}
      },
      "source": [
        "%timeit 3+4\n",
        "%timeit add(3,4)\n",
        "\n"
      ],
      "execution_count": 0,
      "outputs": []
    },
    {
      "cell_type": "code",
      "metadata": {
        "id": "E_nxju-T4XPP",
        "colab_type": "code",
        "colab": {}
      },
      "source": [
        "%%timeit\n",
        "a=[1,2,3]\n",
        "a=(x+1 for x in a)\n",
        "\n"
      ],
      "execution_count": 0,
      "outputs": []
    },
    {
      "cell_type": "code",
      "metadata": {
        "id": "SiZYSjx04YBP",
        "colab_type": "code",
        "colab": {}
      },
      "source": [
        "%%timeit\n",
        "b=[1,2,3]\n",
        "for i in range(len(b)):\n",
        "\tb[i]=b[i]+1"
      ],
      "execution_count": 0,
      "outputs": []
    }
  ]
}