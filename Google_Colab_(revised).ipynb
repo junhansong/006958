{
  "nbformat": 4,
  "nbformat_minor": 0,
  "metadata": {
    "colab": {
      "name": "Google Colab (revised).ipynb",
      "provenance": [],
      "collapsed_sections": [],
      "include_colab_link": true
    },
    "kernelspec": {
      "name": "python3",
      "display_name": "Python 3"
    },
    "accelerator": "GPU"
  },
  "cells": [
    {
      "cell_type": "markdown",
      "metadata": {
        "id": "view-in-github",
        "colab_type": "text"
      },
      "source": [
        "<a href=\"https://colab.research.google.com/github/junhansong/006958/blob/master/Google_Colab_(revised).ipynb\" target=\"_parent\"><img src=\"https://colab.research.google.com/assets/colab-badge.svg\" alt=\"Open In Colab\"/></a>"
      ]
    },
    {
      "cell_type": "markdown",
      "metadata": {
        "id": "sbTOLTwnDyBu",
        "colab_type": "text"
      },
      "source": [
        "# 구글 Colab 소개 (revised)\n",
        "\n",
        "## \"Google Drive + Juputer Noteook\"\n",
        "\n",
        "![Google Colaboratory](https://i.imgur.com/4ERt0Sm.png =320x)\n",
        "\n",
        "\n",
        "※ 이 문서는 아래 과거 버전(2017.10) 문서의 개정판 입니다 <br>\n",
        "https://colab.research.google.com/drive/0B2Op0f7i-jUEem1NUWVaRDlwVVE\n",
        "\n",
        "\n",
        "### 2018 FinanceData.KR [facebook.com/financedata](http://facebook.com/financedata)"
      ]
    },
    {
      "cell_type": "markdown",
      "metadata": {
        "id": "UQaAURR8EnQT",
        "colab_type": "text"
      },
      "source": [
        "# Google Colab\n",
        "구글이 내부에서 사용하던 주피터 노트북 구글 커스텀 버전 (2017년 10월 공개)\n",
        "\n",
        "한줄로 요약하자면, \n",
        "\n",
        "## \"Google Colab = Google Drive + Juputer Noteook\"\n",
        "\n"
      ]
    },
    {
      "cell_type": "markdown",
      "metadata": {
        "id": "HhHqW3StKn0j",
        "colab_type": "text"
      },
      "source": [
        "# 간단한 소개\n",
        "https://colab.research.google.com (접속하면 바로 소개문서 노트북)\n",
        "\n",
        "1. Jupyter Notebook 기능 포함 (파이썬 실행, 마크다운, 수식, 차트 표현 등)\n",
        "1. 구글 드라이브의 문서 생성과 공유 기능 (닥스 문서와 동일한 방법으로 생성, 공유)\n",
        "1. Github 연계\n",
        "1. 파이썬 2.7과 3.6을 지원\n"
      ]
    },
    {
      "cell_type": "markdown",
      "metadata": {
        "id": "1RqXgtgGOkhx",
        "colab_type": "text"
      },
      "source": [
        "# 파이썬 3.6으로 바꾸기\n",
        "* 노트를 생성한 뒤에 메뉴에서 \"런타임 / 런타임 유형 변경\" 선택 (그림) <br> 무료 하드웨어 가속기(GPU) 사용도 가능\n",
        "\n",
        "<img src=\"https://i.imgur.com/GmBRYsT.png\" >\n"
      ]
    },
    {
      "cell_type": "markdown",
      "metadata": {
        "id": "sm7ja59QmK3E",
        "colab_type": "text"
      },
      "source": [
        "# 환경 설정 정보"
      ]
    },
    {
      "cell_type": "code",
      "metadata": {
        "id": "nJmEvFPvmSp7",
        "colab_type": "code",
        "outputId": "221a6788-4c30-4ef0-ded9-4fd1b0c17781",
        "colab": {
          "base_uri": "https://localhost:8080/",
          "height": 161
        }
      },
      "source": [
        "# 디스크 용량: 사용자 영역 40G\n",
        "\n",
        "! df -h"
      ],
      "execution_count": 0,
      "outputs": [
        {
          "output_type": "stream",
          "text": [
            "Filesystem      Size  Used Avail Use% Mounted on\r\n",
            "overlay         359G  7.5G  333G   3% /\r\n",
            "tmpfs           6.4G     0  6.4G   0% /dev\r\n",
            "tmpfs           6.4G     0  6.4G   0% /sys/fs/cgroup\r\n",
            "tmpfs           6.4G  249M  6.2G   4% /opt/bin\r\n",
            "/dev/sda1       365G   11G  355G   3% /etc/hosts\r\n",
            "shm              64M     0   64M   0% /dev/shm\r\n",
            "tmpfs           6.4G     0  6.4G   0% /sys/firmware\r\n"
          ],
          "name": "stdout"
        }
      ]
    },
    {
      "cell_type": "code",
      "metadata": {
        "id": "_OS3EZQmvGRu",
        "colab_type": "code",
        "outputId": "81711106-e668-4601-fb41-66a23edcfe76",
        "colab": {
          "base_uri": "https://localhost:8080/",
          "height": 1009
        }
      },
      "source": [
        "# CPU: 듀얼코어 2.20GHz\n",
        "\n",
        "! cat /proc/cpuinfo"
      ],
      "execution_count": 0,
      "outputs": [
        {
          "output_type": "stream",
          "text": [
            "processor\t: 0\r\n",
            "vendor_id\t: GenuineIntel\r\n",
            "cpu family\t: 6\r\n",
            "model\t\t: 79\r\n",
            "model name\t: Intel(R) Xeon(R) CPU @ 2.20GHz\r\n",
            "stepping\t: 0\r\n",
            "microcode\t: 0x1\r\n",
            "cpu MHz\t\t: 2200.000\r\n",
            "cache size\t: 56320 KB\r\n",
            "physical id\t: 0\r\n",
            "siblings\t: 2\r\n",
            "core id\t\t: 0\r\n",
            "cpu cores\t: 1\r\n",
            "apicid\t\t: 0\r\n",
            "initial apicid\t: 0\r\n",
            "fpu\t\t: yes\r\n",
            "fpu_exception\t: yes\r\n",
            "cpuid level\t: 13\r\n",
            "wp\t\t: yes\r\n",
            "flags\t\t: fpu vme de pse tsc msr pae mce cx8 apic sep mtrr pge mca cmov pat pse36 clflush mmx fxsr sse sse2 ss ht syscall nx pdpe1gb rdtscp lm constant_tsc rep_good nopl xtopology nonstop_tsc cpuid pni pclmulqdq ssse3 fma cx16 sse4_1 sse4_2 x2apic movbe popcnt aes xsave avx f16c rdrand hypervisor lahf_lm abm 3dnowprefetch pti fsgsbase tsc_adjust bmi1 hle avx2 smep bmi2 erms rtm rdseed adx smap xsaveopt\r\n",
            "bugs\t\t: cpu_meltdown spectre_v1 spectre_v2\r\n",
            "bogomips\t: 4400.00\r\n",
            "clflush size\t: 64\r\n",
            "cache_alignment\t: 64\r\n",
            "address sizes\t: 46 bits physical, 48 bits virtual\r\n",
            "power management:\r\n",
            "\r\n",
            "processor\t: 1\r\n",
            "vendor_id\t: GenuineIntel\r\n",
            "cpu family\t: 6\r\n",
            "model\t\t: 79\r\n",
            "model name\t: Intel(R) Xeon(R) CPU @ 2.20GHz\r\n",
            "stepping\t: 0\r\n",
            "microcode\t: 0x1\r\n",
            "cpu MHz\t\t: 2200.000\r\n",
            "cache size\t: 56320 KB\r\n",
            "physical id\t: 0\r\n",
            "siblings\t: 2\r\n",
            "core id\t\t: 0\r\n",
            "cpu cores\t: 1\r\n",
            "apicid\t\t: 1\r\n",
            "initial apicid\t: 1\r\n",
            "fpu\t\t: yes\r\n",
            "fpu_exception\t: yes\r\n",
            "cpuid level\t: 13\r\n",
            "wp\t\t: yes\r\n",
            "flags\t\t: fpu vme de pse tsc msr pae mce cx8 apic sep mtrr pge mca cmov pat pse36 clflush mmx fxsr sse sse2 ss ht syscall nx pdpe1gb rdtscp lm constant_tsc rep_good nopl xtopology nonstop_tsc cpuid pni pclmulqdq ssse3 fma cx16 sse4_1 sse4_2 x2apic movbe popcnt aes xsave avx f16c rdrand hypervisor lahf_lm abm 3dnowprefetch pti fsgsbase tsc_adjust bmi1 hle avx2 smep bmi2 erms rtm rdseed adx smap xsaveopt\r\n",
            "bugs\t\t: cpu_meltdown spectre_v1 spectre_v2\r\n",
            "bogomips\t: 4400.00\r\n",
            "clflush size\t: 64\r\n",
            "cache_alignment\t: 64\r\n",
            "address sizes\t: 46 bits physical, 48 bits virtual\r\n",
            "power management:\r\n",
            "\r\n"
          ],
          "name": "stdout"
        }
      ]
    },
    {
      "cell_type": "code",
      "metadata": {
        "id": "ktKE_tPIwSOw",
        "colab_type": "code",
        "outputId": "34d2c847-0c8f-4214-fcc5-ba13abbce357",
        "colab": {
          "base_uri": "https://localhost:8080/",
          "height": 827
        }
      },
      "source": [
        "# 메모리: 13G\n",
        "! cat /proc/meminfo"
      ],
      "execution_count": 0,
      "outputs": [
        {
          "output_type": "stream",
          "text": [
            "MemTotal:       13335192 kB\r\n",
            "MemFree:         1711956 kB\r\n",
            "MemAvailable:   12305576 kB\r\n",
            "Buffers:          160372 kB\r\n",
            "Cached:         10449992 kB\r\n",
            "SwapCached:            0 kB\r\n",
            "Active:          1045420 kB\r\n",
            "Inactive:        9942792 kB\r\n",
            "Active(anon):     501688 kB\r\n",
            "Inactive(anon):    84408 kB\r\n",
            "Active(file):     543732 kB\r\n",
            "Inactive(file):  9858384 kB\r\n",
            "Unevictable:           0 kB\r\n",
            "Mlocked:               0 kB\r\n",
            "SwapTotal:             0 kB\r\n",
            "SwapFree:              0 kB\r\n",
            "Dirty:              1348 kB\r\n",
            "Writeback:             0 kB\r\n",
            "AnonPages:        377908 kB\r\n",
            "Mapped:           151856 kB\r\n",
            "Shmem:            254968 kB\r\n",
            "Slab:             553852 kB\r\n",
            "SReclaimable:     517644 kB\r\n",
            "SUnreclaim:        36208 kB\r\n",
            "KernelStack:        3760 kB\r\n",
            "PageTables:         5540 kB\r\n",
            "NFS_Unstable:          0 kB\r\n",
            "Bounce:                0 kB\r\n",
            "WritebackTmp:          0 kB\r\n",
            "CommitLimit:     6667596 kB\r\n",
            "Committed_AS:    2026304 kB\r\n",
            "VmallocTotal:   34359738367 kB\r\n",
            "VmallocUsed:           0 kB\r\n",
            "VmallocChunk:          0 kB\r\n",
            "AnonHugePages:         0 kB\r\n",
            "ShmemHugePages:        0 kB\r\n",
            "ShmemPmdMapped:        0 kB\r\n",
            "HugePages_Total:       0\r\n",
            "HugePages_Free:        0\r\n",
            "HugePages_Rsvd:        0\r\n",
            "HugePages_Surp:        0\r\n",
            "Hugepagesize:       2048 kB\r\n",
            "DirectMap4k:      102348 kB\r\n",
            "DirectMap2M:     6189056 kB\r\n",
            "DirectMap1G:     9437184 kB\r\n"
          ],
          "name": "stdout"
        }
      ]
    },
    {
      "cell_type": "code",
      "metadata": {
        "id": "G1w__WlvEEsC",
        "colab_type": "code",
        "outputId": "c64f28d1-95c1-4a69-da76-a97655c6880c",
        "colab": {
          "base_uri": "https://localhost:8080/",
          "height": 35
        }
      },
      "source": [
        "# 파이썬 버전: 3.6 (2.7도 지원)\n",
        "\n",
        "import sys\n",
        "sys.version_info  "
      ],
      "execution_count": 0,
      "outputs": [
        {
          "output_type": "execute_result",
          "data": {
            "text/plain": [
              "sys.version_info(major=3, minor=6, micro=3, releaselevel='final', serial=0)"
            ]
          },
          "metadata": {
            "tags": []
          },
          "execution_count": 4
        }
      ]
    },
    {
      "cell_type": "code",
      "metadata": {
        "id": "pg4UIc3PPsEV",
        "colab_type": "code",
        "outputId": "5cfd6d2c-a5ec-4870-bf75-ecc43ba29858",
        "colab": {
          "base_uri": "https://localhost:8080/",
          "height": 35
        }
      },
      "source": [
        "# OS 플랫폼: 64비트 우분투 17.10 버전\n",
        "\n",
        "import platform\n",
        "platform.platform()"
      ],
      "execution_count": 0,
      "outputs": [
        {
          "output_type": "execute_result",
          "data": {
            "text/plain": [
              "'Linux-4.14.33+-x86_64-with-Ubuntu-17.10-artful'"
            ]
          },
          "metadata": {
            "tags": []
          },
          "execution_count": 5
        }
      ]
    },
    {
      "cell_type": "code",
      "metadata": {
        "id": "PYUoUDZlPvsN",
        "colab_type": "code",
        "outputId": "ea3ca75e-d9d3-46fd-c6d1-5aeff74f8a1e",
        "colab": {
          "base_uri": "https://localhost:8080/",
          "height": 2141
        }
      },
      "source": [
        "# 설치된 파이썬 패키지 목록\n",
        "\n",
        "import pkg_resources\n",
        "dists = [d for d in pkg_resources.working_set]\n",
        "dists"
      ],
      "execution_count": 0,
      "outputs": [
        {
          "output_type": "execute_result",
          "data": {
            "text/plain": [
              "[xgboost 0.7.post4 (/usr/local/lib/python3.6/dist-packages),\n",
              " wheel 0.31.1 (/usr/local/lib/python3.6/dist-packages),\n",
              " Werkzeug 0.14.1 (/usr/local/lib/python3.6/dist-packages),\n",
              " webencodings 0.5.1 (/usr/local/lib/python3.6/dist-packages),\n",
              " wcwidth 0.1.7 (/usr/local/lib/python3.6/dist-packages),\n",
              " virtualenv 16.0.0 (/usr/local/lib/python3.6/dist-packages),\n",
              " vega-datasets 0.5.0 (/usr/local/lib/python3.6/dist-packages),\n",
              " urllib3 1.22 (/usr/local/lib/python3.6/dist-packages),\n",
              " uritemplate 3.0.0 (/usr/local/lib/python3.6/dist-packages),\n",
              " typing 3.6.4 (/usr/local/lib/python3.6/dist-packages),\n",
              " traitlets 4.3.2 (/usr/local/lib/python3.6/dist-packages),\n",
              " tox 3.1.2 (/usr/local/lib/python3.6/dist-packages),\n",
              " tornado 4.5.3 (/usr/local/lib/python3.6/dist-packages),\n",
              " torchvision 0.2.1 (/usr/local/lib/python3.6/dist-packages),\n",
              " torch 0.4.0 (/usr/local/lib/python3.6/dist-packages),\n",
              " toolz 0.9.0 (/usr/local/lib/python3.6/dist-packages),\n",
              " testpath 0.3.1 (/usr/local/lib/python3.6/dist-packages),\n",
              " terminado 0.8.1 (/usr/local/lib/python3.6/dist-packages),\n",
              " termcolor 1.1.0 (/usr/local/lib/python3.6/dist-packages),\n",
              " tensorflow 1.9.0 (/usr/local/lib/python3.6/dist-packages),\n",
              " tensorflow-hub 0.1.1 (/usr/local/lib/python3.6/dist-packages),\n",
              " tensorboard 1.9.0 (/usr/local/lib/python3.6/dist-packages),\n",
              " sympy 1.1.1 (/usr/local/lib/python3.6/dist-packages),\n",
              " statsmodels 0.8.0 (/usr/local/lib/python3.6/dist-packages),\n",
              " six 1.11.0 (/usr/local/lib/python3.6/dist-packages),\n",
              " simplegeneric 0.8.1 (/usr/local/lib/python3.6/dist-packages),\n",
              " setuptools 39.1.0 (/usr/local/lib/python3.6/dist-packages),\n",
              " seaborn 0.7.1 (/usr/local/lib/python3.6/dist-packages),\n",
              " scipy 0.19.1 (/usr/local/lib/python3.6/dist-packages),\n",
              " scikit-learn 0.19.1 (/usr/local/lib/python3.6/dist-packages),\n",
              " scikit-image 0.13.1 (/usr/local/lib/python3.6/dist-packages),\n",
              " rsa 3.4.2 (/usr/local/lib/python3.6/dist-packages),\n",
              " requests 2.18.4 (/usr/local/lib/python3.6/dist-packages),\n",
              " requests-oauthlib 1.0.0 (/usr/local/lib/python3.6/dist-packages),\n",
              " pyzmq 16.0.4 (/usr/local/lib/python3.6/dist-packages),\n",
              " PyYAML 3.13 (/usr/local/lib/python3.6/dist-packages),\n",
              " PyWavelets 0.5.2 (/usr/local/lib/python3.6/dist-packages),\n",
              " pytz 2018.5 (/usr/local/lib/python3.6/dist-packages),\n",
              " python-dateutil 2.5.3 (/usr/local/lib/python3.6/dist-packages),\n",
              " pystache 0.5.4 (/usr/local/lib/python3.6/dist-packages),\n",
              " pyparsing 2.2.0 (/usr/local/lib/python3.6/dist-packages),\n",
              " Pygments 2.1.3 (/usr/local/lib/python3.6/dist-packages),\n",
              " PyDrive 1.3.1 (/usr/local/lib/python3.6/dist-packages),\n",
              " pyasn1 0.4.4 (/usr/local/lib/python3.6/dist-packages),\n",
              " pyasn1-modules 0.2.2 (/usr/local/lib/python3.6/dist-packages),\n",
              " py 1.5.4 (/usr/local/lib/python3.6/dist-packages),\n",
              " ptyprocess 0.6.0 (/usr/local/lib/python3.6/dist-packages),\n",
              " psutil 5.4.6 (/usr/local/lib/python3.6/dist-packages),\n",
              " protobuf 3.6.0 (/usr/local/lib/python3.6/dist-packages),\n",
              " prompt-toolkit 1.0.15 (/usr/local/lib/python3.6/dist-packages),\n",
              " portpicker 1.2.0 (/usr/local/lib/python3.6/dist-packages),\n",
              " pluggy 0.7.1 (/usr/local/lib/python3.6/dist-packages),\n",
              " plotly 1.12.12 (/usr/local/lib/python3.6/dist-packages),\n",
              " pip 18.0 (/usr/local/lib/python3.6/dist-packages),\n",
              " Pillow 5.2.0 (/usr/local/lib/python3.6/dist-packages),\n",
              " pickleshare 0.7.4 (/usr/local/lib/python3.6/dist-packages),\n",
              " pexpect 4.6.0 (/usr/local/lib/python3.6/dist-packages),\n",
              " patsy 0.5.0 (/usr/local/lib/python3.6/dist-packages),\n",
              " pandocfilters 1.4.2 (/usr/local/lib/python3.6/dist-packages),\n",
              " pandas 0.22.0 (/usr/local/lib/python3.6/dist-packages),\n",
              " pandas-gbq 0.4.1 (/usr/local/lib/python3.6/dist-packages),\n",
              " packaging 17.1 (/usr/local/lib/python3.6/dist-packages),\n",
              " opencv-python 3.4.2.17 (/usr/local/lib/python3.6/dist-packages),\n",
              " olefile 0.45.1 (/usr/local/lib/python3.6/dist-packages),\n",
              " oauthlib 2.1.0 (/usr/local/lib/python3.6/dist-packages),\n",
              " oauth2client 4.1.2 (/usr/local/lib/python3.6/dist-packages),\n",
              " numpy 1.14.5 (/usr/local/lib/python3.6/dist-packages),\n",
              " notebook 5.2.2 (/usr/local/lib/python3.6/dist-packages),\n",
              " nltk 3.2.5 (/usr/local/lib/python3.6/dist-packages),\n",
              " networkx 2.1 (/usr/local/lib/python3.6/dist-packages),\n",
              " nbformat 4.4.0 (/usr/local/lib/python3.6/dist-packages),\n",
              " nbconvert 5.3.1 (/usr/local/lib/python3.6/dist-packages),\n",
              " mpmath 1.0.0 (/usr/local/lib/python3.6/dist-packages),\n",
              " mistune 0.8.3 (/usr/local/lib/python3.6/dist-packages),\n",
              " matplotlib 2.1.2 (/usr/local/lib/python3.6/dist-packages),\n",
              " MarkupSafe 1.0 (/usr/local/lib/python3.6/dist-packages),\n",
              " Markdown 2.6.11 (/usr/local/lib/python3.6/dist-packages),\n",
              " Keras 2.1.6 (/usr/local/lib/python3.6/dist-packages),\n",
              " jupyter-core 4.4.0 (/usr/local/lib/python3.6/dist-packages),\n",
              " jupyter-client 5.2.3 (/usr/local/lib/python3.6/dist-packages),\n",
              " jsonschema 2.6.0 (/usr/local/lib/python3.6/dist-packages),\n",
              " Jinja2 2.10 (/usr/local/lib/python3.6/dist-packages),\n",
              " ipython 5.5.0 (/usr/local/lib/python3.6/dist-packages),\n",
              " ipython-genutils 0.2.0 (/usr/local/lib/python3.6/dist-packages),\n",
              " ipykernel 4.6.1 (/usr/local/lib/python3.6/dist-packages),\n",
              " idna 2.6 (/usr/local/lib/python3.6/dist-packages),\n",
              " httplib2 0.11.3 (/usr/local/lib/python3.6/dist-packages),\n",
              " html5lib 1.0.1 (/usr/local/lib/python3.6/dist-packages),\n",
              " h5py 2.8.0 (/usr/local/lib/python3.6/dist-packages),\n",
              " grpcio 1.14.0 (/usr/local/lib/python3.6/dist-packages),\n",
              " googleapis-common-protos 1.5.3 (/usr/local/lib/python3.6/dist-packages),\n",
              " google-resumable-media 0.3.1 (/usr/local/lib/python3.6/dist-packages),\n",
              " google-colab 0.0.1a1 (/usr/local/lib/python3.6/dist-packages),\n",
              " google-cloud-translate 1.3.1 (/usr/local/lib/python3.6/dist-packages),\n",
              " google-cloud-storage 1.8.0 (/usr/local/lib/python3.6/dist-packages),\n",
              " google-cloud-language 1.0.2 (/usr/local/lib/python3.6/dist-packages),\n",
              " google-cloud-core 0.28.1 (/usr/local/lib/python3.6/dist-packages),\n",
              " google-cloud-bigquery 1.1.0 (/usr/local/lib/python3.6/dist-packages),\n",
              " google-auth 1.4.2 (/usr/local/lib/python3.6/dist-packages),\n",
              " google-auth-oauthlib 0.2.0 (/usr/local/lib/python3.6/dist-packages),\n",
              " google-auth-httplib2 0.0.3 (/usr/local/lib/python3.6/dist-packages),\n",
              " google-api-python-client 1.6.7 (/usr/local/lib/python3.6/dist-packages),\n",
              " google-api-core 1.3.0 (/usr/local/lib/python3.6/dist-packages),\n",
              " gast 0.2.0 (/usr/local/lib/python3.6/dist-packages),\n",
              " future 0.16.0 (/usr/local/lib/python3.6/dist-packages),\n",
              " entrypoints 0.2.3 (/usr/local/lib/python3.6/dist-packages),\n",
              " decorator 4.3.0 (/usr/local/lib/python3.6/dist-packages),\n",
              " cycler 0.10.0 (/usr/local/lib/python3.6/dist-packages),\n",
              " crcmod 1.7 (/usr/local/lib/python3.6/dist-packages),\n",
              " chardet 3.0.4 (/usr/local/lib/python3.6/dist-packages),\n",
              " certifi 2018.4.16 (/usr/local/lib/python3.6/dist-packages),\n",
              " cachetools 2.1.0 (/usr/local/lib/python3.6/dist-packages),\n",
              " bleach 2.1.3 (/usr/local/lib/python3.6/dist-packages),\n",
              " beautifulsoup4 4.6.1 (/usr/local/lib/python3.6/dist-packages),\n",
              " autokeras 0.2.0 (/usr/local/lib/python3.6/dist-packages),\n",
              " astor 0.7.1 (/usr/local/lib/python3.6/dist-packages),\n",
              " altair 2.1.0 (/usr/local/lib/python3.6/dist-packages),\n",
              " absl-py 0.3.0 (/usr/local/lib/python3.6/dist-packages)]"
            ]
          },
          "metadata": {
            "tags": []
          },
          "execution_count": 6
        }
      ]
    },
    {
      "cell_type": "markdown",
      "metadata": {
        "id": "ySBnOy50P635",
        "colab_type": "text"
      },
      "source": [
        "scipy, numpy, pandas 등 대부분의 파이썬 패키지들이 설치되어 있으며, scikit-learn, tensorflow 등 머신러닝라이브러리도 설치되어 있다.\n",
        "\n"
      ]
    },
    {
      "cell_type": "markdown",
      "metadata": {
        "id": "ju5BDciDuf3D",
        "colab_type": "text"
      },
      "source": [
        "# 간단한 차트"
      ]
    },
    {
      "cell_type": "code",
      "metadata": {
        "id": "S53ooIfhW-mJ",
        "colab_type": "code",
        "outputId": "70ac3462-eb34-48be-bf97-cd50df5710f8",
        "colab": {
          "base_uri": "https://localhost:8080/",
          "height": 89
        }
      },
      "source": [
        "import numpy as np\n",
        "\n",
        "data = np.random.randint(-100, 100, 50)\n",
        "data"
      ],
      "execution_count": 0,
      "outputs": [
        {
          "output_type": "execute_result",
          "data": {
            "text/plain": [
              "array([-50, -74, -30,   9,  -4, -87,  56, -18,  80,  41,  -3,  71,  48,\n",
              "       -68,  98, -85,  36, -49,  67, -76, -60,  33,  39,  -3,  53,  67,\n",
              "       -94,   2,  37, -85, -61, -89,  40,  76,  -2, -41,  40,  26, -44,\n",
              "        79, -99,  59, -52, -10,  47,   0,  38, -44,  44, -68])"
            ]
          },
          "metadata": {
            "tags": []
          },
          "execution_count": 7
        }
      ]
    },
    {
      "cell_type": "code",
      "metadata": {
        "id": "3qgokxalXUmM",
        "colab_type": "code",
        "outputId": "1c16e1ee-db56-4c87-c387-035fcbc31b9e",
        "colab": {
          "base_uri": "https://localhost:8080/",
          "height": 347
        }
      },
      "source": [
        "import matplotlib.pyplot as plt\n",
        "\n",
        "plt.plot(data.cumsum())\n",
        "plt.show()"
      ],
      "execution_count": 0,
      "outputs": [
        {
          "output_type": "display_data",
          "data": {
            "image/png": "[encoded data removed]",
            "text/plain": [
              "<matplotlib.figure.Figure at 0x7f2dbae9eb00>"
            ]
          },
          "metadata": {
            "tags": []
          }
        }
      ]
    },
    {
      "cell_type": "markdown",
      "metadata": {
        "id": "7YlBphxVXyff",
        "colab_type": "text"
      },
      "source": [
        "# 추가 패키지 설치 - pandas_datareader\n",
        "\n",
        "필요한 패키지가 설치되어 있지 않다면 pip 외부 명령으로 추가 설치할 수 있다.\n"
      ]
    },
    {
      "cell_type": "code",
      "metadata": {
        "id": "gWB5GpVmXyqq",
        "colab_type": "code",
        "outputId": "d9a2cc25-799b-46b1-a9c6-1f8b0d74e019",
        "colab": {
          "base_uri": "https://localhost:8080/",
          "height": 557
        }
      },
      "source": [
        "! pip install pandas_datareader"
      ],
      "execution_count": 0,
      "outputs": [
        {
          "output_type": "stream",
          "text": [
            "Collecting pandas_datareader\n",
            "\u001b[?25l  Downloading https://files.pythonhosted.org/packages/be/76/639c60ede26458dadf76bacaa9cbcc76f8cc5082fb2b2d90d0a90c699d36/pandas_datareader-0.6.0-py2.py3-none-any.whl (103kB)\n",
            "\u001b[K    100% |████████████████████████████████| 112kB 4.6MB/s \n",
            "\u001b[?25hCollecting requests-ftp (from pandas_datareader)\n",
            "  Downloading https://files.pythonhosted.org/packages/3d/ca/14b2ad1e93b5195eeaf56b86b7ecfd5ea2d5754a68d17aeb1e5b9f95b3cf/requests-ftp-0.3.1.tar.gz\n",
            "Requirement already satisfied: pandas>=0.19.2 in /usr/local/lib/python3.6/dist-packages (from pandas_datareader) (0.22.0)\n",
            "Requirement already satisfied: requests>=2.3.0 in /usr/local/lib/python3.6/dist-packages (from pandas_datareader) (2.18.4)\n",
            "Collecting lxml (from pandas_datareader)\n",
            "\u001b[?25l  Downloading https://files.pythonhosted.org/packages/eb/59/1db3c9c27049e4f832691c6d642df1f5b64763f73942172c44fee22de397/lxml-4.2.4-cp36-cp36m-manylinux1_x86_64.whl (5.8MB)\n",
            "\u001b[K    100% |████████████████████████████████| 5.8MB 4.5MB/s \n",
            "\u001b[?25hCollecting wrapt (from pandas_datareader)\n",
            "  Downloading https://files.pythonhosted.org/packages/a0/47/66897906448185fcb77fc3c2b1bc20ed0ecca81a0f2f88eda3fc5a34fc3d/wrapt-1.10.11.tar.gz\n",
            "Collecting requests-file (from pandas_datareader)\n",
            "  Downloading https://files.pythonhosted.org/packages/23/9c/6e63c23c39e53d3df41c77a3d05a49a42c4e1383a6d2a5e3233161b89dbf/requests_file-1.4.3-py2.py3-none-any.whl\n",
            "Requirement already satisfied: numpy>=1.9.0 in /usr/local/lib/python3.6/dist-packages (from pandas>=0.19.2->pandas_datareader) (1.14.5)\n",
            "Requirement already satisfied: pytz>=2011k in /usr/local/lib/python3.6/dist-packages (from pandas>=0.19.2->pandas_datareader) (2018.5)\n",
            "Requirement already satisfied: python-dateutil>=2 in /usr/local/lib/python3.6/dist-packages (from pandas>=0.19.2->pandas_datareader) (2.5.3)\n",
            "Requirement already satisfied: urllib3<1.23,>=1.21.1 in /usr/local/lib/python3.6/dist-packages (from requests>=2.3.0->pandas_datareader) (1.22)\n",
            "Requirement already satisfied: certifi>=2017.4.17 in /usr/local/lib/python3.6/dist-packages (from requests>=2.3.0->pandas_datareader) (2018.4.16)\n",
            "Requirement already satisfied: chardet<3.1.0,>=3.0.2 in /usr/local/lib/python3.6/dist-packages (from requests>=2.3.0->pandas_datareader) (3.0.4)\n",
            "Requirement already satisfied: idna<2.7,>=2.5 in /usr/local/lib/python3.6/dist-packages (from requests>=2.3.0->pandas_datareader) (2.6)\n",
            "Requirement already satisfied: six in /usr/local/lib/python3.6/dist-packages (from requests-file->pandas_datareader) (1.11.0)\n",
            "Building wheels for collected packages: requests-ftp, wrapt\n",
            "  Running setup.py bdist_wheel for requests-ftp ... \u001b[?25l-\b \bdone\n",
            "\u001b[?25h  Stored in directory: /content/.cache/pip/wheels/2a/98/32/37195e45a3392a73d9f65c488cbea30fe5bad76aaef4d6b020\n",
            "  Running setup.py bdist_wheel for wrapt ... \u001b[?25l-\b \b\\\b \b|\b \bdone\n",
            "\u001b[?25h  Stored in directory: /content/.cache/pip/wheels/48/5d/04/22361a593e70d23b1f7746d932802efe1f0e523376a74f321e\n",
            "Successfully built requests-ftp wrapt\n",
            "Installing collected packages: requests-ftp, lxml, wrapt, requests-file, pandas-datareader\n",
            "Successfully installed lxml-4.2.4 pandas-datareader-0.6.0 requests-file-1.4.3 requests-ftp-0.3.1 wrapt-1.10.11\n"
          ],
          "name": "stdout"
        }
      ]
    },
    {
      "cell_type": "markdown",
      "metadata": {
        "id": "Qhh1BoGvH81X",
        "colab_type": "text"
      },
      "source": [
        "# FRED에서 원달러 환율 데이터 가져오기"
      ]
    },
    {
      "cell_type": "code",
      "metadata": {
        "id": "6prvGaHqYCpe",
        "colab_type": "code",
        "outputId": "3f4fcbbf-25a0-4ee0-bbb3-794c080496ca",
        "colab": {
          "base_uri": "https://localhost:8080/",
          "height": 408
        }
      },
      "source": [
        "import pandas_datareader as pdr\n",
        "\n",
        "df = pdr.DataReader('DEXKOUS', 'fred', '1990-01-01')\n",
        "\n",
        "print('row count:', len(df))\n",
        "df.tail(10)"
      ],
      "execution_count": 0,
      "outputs": [
        {
          "output_type": "stream",
          "text": [
            "row count: 7455\n"
          ],
          "name": "stdout"
        },
        {
          "output_type": "execute_result",
          "data": {
            "text/html": [
              "<div>\n",
              "<style scoped>\n",
              "    .dataframe tbody tr th:only-of-type {\n",
              "        vertical-align: middle;\n",
              "    }\n",
              "\n",
              "    .dataframe tbody tr th {\n",
              "        vertical-align: top;\n",
              "    }\n",
              "\n",
              "    .dataframe thead th {\n",
              "        text-align: right;\n",
              "    }\n",
              "</style>\n",
              "<table border=\"1\" class=\"dataframe\">\n",
              "  <thead>\n",
              "    <tr style=\"text-align: right;\">\n",
              "      <th></th>\n",
              "      <th>DEXKOUS</th>\n",
              "    </tr>\n",
              "    <tr>\n",
              "      <th>DATE</th>\n",
              "      <th></th>\n",
              "    </tr>\n",
              "  </thead>\n",
              "  <tbody>\n",
              "    <tr>\n",
              "      <th>2018-07-16</th>\n",
              "      <td>1127.81</td>\n",
              "    </tr>\n",
              "    <tr>\n",
              "      <th>2018-07-17</th>\n",
              "      <td>1125.63</td>\n",
              "    </tr>\n",
              "    <tr>\n",
              "      <th>2018-07-18</th>\n",
              "      <td>1130.76</td>\n",
              "    </tr>\n",
              "    <tr>\n",
              "      <th>2018-07-19</th>\n",
              "      <td>1136.38</td>\n",
              "    </tr>\n",
              "    <tr>\n",
              "      <th>2018-07-20</th>\n",
              "      <td>1128.16</td>\n",
              "    </tr>\n",
              "    <tr>\n",
              "      <th>2018-07-23</th>\n",
              "      <td>1134.45</td>\n",
              "    </tr>\n",
              "    <tr>\n",
              "      <th>2018-07-24</th>\n",
              "      <td>1127.39</td>\n",
              "    </tr>\n",
              "    <tr>\n",
              "      <th>2018-07-25</th>\n",
              "      <td>1122.59</td>\n",
              "    </tr>\n",
              "    <tr>\n",
              "      <th>2018-07-26</th>\n",
              "      <td>1121.72</td>\n",
              "    </tr>\n",
              "    <tr>\n",
              "      <th>2018-07-27</th>\n",
              "      <td>1115.77</td>\n",
              "    </tr>\n",
              "  </tbody>\n",
              "</table>\n",
              "</div>"
            ],
            "text/plain": [
              "            DEXKOUS\n",
              "DATE               \n",
              "2018-07-16  1127.81\n",
              "2018-07-17  1125.63\n",
              "2018-07-18  1130.76\n",
              "2018-07-19  1136.38\n",
              "2018-07-20  1128.16\n",
              "2018-07-23  1134.45\n",
              "2018-07-24  1127.39\n",
              "2018-07-25  1122.59\n",
              "2018-07-26  1121.72\n",
              "2018-07-27  1115.77"
            ]
          },
          "metadata": {
            "tags": []
          },
          "execution_count": 10
        }
      ]
    },
    {
      "cell_type": "code",
      "metadata": {
        "id": "ypz_T9pFX2hE",
        "colab_type": "code",
        "outputId": "cb48e93f-4efc-4faa-e35e-2868207a1fdb",
        "colab": {
          "base_uri": "https://localhost:8080/",
          "height": 406
        }
      },
      "source": [
        "# 원달러 환율 차트\n",
        "\n",
        "df['DEXKOUS'].plot(figsize=(16,6))"
      ],
      "execution_count": 0,
      "outputs": [
        {
          "output_type": "execute_result",
          "data": {
            "text/plain": [
              "<matplotlib.axes._subplots.AxesSubplot at 0x7f2db7f89da0>"
            ]
          },
          "metadata": {
            "tags": []
          },
          "execution_count": 11
        },
        {
          "output_type": "display_data",
          "data": {
            "image/png": "[encoded data removed]",
            "text/plain": [
              "<matplotlib.figure.Figure at 0x7f2dba01ba58>"
            ]
          },
          "metadata": {
            "tags": []
          }
        }
      ]
    },
    {
      "cell_type": "markdown",
      "metadata": {
        "id": "VM_SH-1ym6ZA",
        "colab_type": "text"
      },
      "source": [
        "# FinanceDataReader 설치와 활용\n",
        "* 오픈소스 금융 데이터 수집 라이브러리 (한국 주식 가격, 미국주식 가격, 지수, 환율, 암호화폐 가격, 종목 리스팅 등) \n",
        "* https://github.com/FinanceData/FinanceDataReader 깃헙\n",
        "* https://financedata.github.io/posts/finance-data-reader-users-guide.html 사용자 안내서\n"
      ]
    },
    {
      "cell_type": "code",
      "metadata": {
        "id": "FXZSGr5Pm5fs",
        "colab_type": "code",
        "outputId": "97cd97c6-84c9-4cf2-f300-85e20b24e548",
        "colab": {
          "base_uri": "https://localhost:8080/",
          "height": 305
        }
      },
      "source": [
        "# 설치\n",
        "\n",
        "! pip install -U finance-datareader "
      ],
      "execution_count": 0,
      "outputs": [
        {
          "output_type": "stream",
          "text": [
            "Collecting finance-datareader\n",
            "  Downloading https://files.pythonhosted.org/packages/47/41/00f1387673a5f42034228f541a2650a1c0b87fab8d65363c67df677e2a98/finance_datareader-0.5.0-py3-none-any.whl\n",
            "Requirement already satisfied, skipping upgrade: lxml in /usr/local/lib/python3.6/dist-packages (from finance-datareader) (4.2.4)\n",
            "Requirement already satisfied, skipping upgrade: requests>=2.3.0 in /usr/local/lib/python3.6/dist-packages (from finance-datareader) (2.18.4)\n",
            "Requirement already satisfied, skipping upgrade: requests-file in /usr/local/lib/python3.6/dist-packages (from finance-datareader) (1.4.3)\n",
            "Requirement already satisfied, skipping upgrade: pandas>=0.19.2 in /usr/local/lib/python3.6/dist-packages (from finance-datareader) (0.22.0)\n",
            "Requirement already satisfied, skipping upgrade: certifi>=2017.4.17 in /usr/local/lib/python3.6/dist-packages (from requests>=2.3.0->finance-datareader) (2018.4.16)\n",
            "Requirement already satisfied, skipping upgrade: chardet<3.1.0,>=3.0.2 in /usr/local/lib/python3.6/dist-packages (from requests>=2.3.0->finance-datareader) (3.0.4)\n",
            "Requirement already satisfied, skipping upgrade: urllib3<1.23,>=1.21.1 in /usr/local/lib/python3.6/dist-packages (from requests>=2.3.0->finance-datareader) (1.22)\n",
            "Requirement already satisfied, skipping upgrade: idna<2.7,>=2.5 in /usr/local/lib/python3.6/dist-packages (from requests>=2.3.0->finance-datareader) (2.6)\n",
            "Requirement already satisfied, skipping upgrade: six in /usr/local/lib/python3.6/dist-packages (from requests-file->finance-datareader) (1.11.0)\n",
            "Requirement already satisfied, skipping upgrade: python-dateutil>=2 in /usr/local/lib/python3.6/dist-packages (from pandas>=0.19.2->finance-datareader) (2.5.3)\n",
            "Requirement already satisfied, skipping upgrade: numpy>=1.9.0 in /usr/local/lib/python3.6/dist-packages (from pandas>=0.19.2->finance-datareader) (1.14.5)\n",
            "Requirement already satisfied, skipping upgrade: pytz>=2011k in /usr/local/lib/python3.6/dist-packages (from pandas>=0.19.2->finance-datareader) (2018.5)\n",
            "Installing collected packages: finance-datareader\n",
            "Successfully installed finance-datareader-0.5.0\n"
          ],
          "name": "stdout"
        }
      ]
    },
    {
      "cell_type": "code",
      "metadata": {
        "id": "39JBY-vdnMht",
        "colab_type": "code",
        "outputId": "f5691817-f8c4-4dd8-ef15-356c6b183988",
        "colab": {
          "base_uri": "https://localhost:8080/",
          "height": 391
        }
      },
      "source": [
        "import FinanceDataReader as fdr\n",
        "\n",
        "# 셀트리온, 2017년~현재 종가 차트\n",
        "df = fdr.DataReader('068270', '2017')\n",
        "df['Close'].plot(figsize=(16,6))"
      ],
      "execution_count": 0,
      "outputs": [
        {
          "output_type": "execute_result",
          "data": {
            "text/plain": [
              "<matplotlib.axes._subplots.AxesSubplot at 0x7f2db7976828>"
            ]
          },
          "metadata": {
            "tags": []
          },
          "execution_count": 13
        },
        {
          "output_type": "display_data",
          "data": {
            "image/png": "[encoded data removed]",
            "text/plain": [
              "<matplotlib.figure.Figure at 0x7f2db7987ef0>"
            ]
          },
          "metadata": {
            "tags": []
          }
        }
      ]
    },
    {
      "cell_type": "markdown",
      "metadata": {
        "id": "KS7l7YD_XJrz",
        "colab_type": "text"
      },
      "source": [
        "# TensorFlow"
      ]
    },
    {
      "cell_type": "code",
      "metadata": {
        "id": "1vi8n_dTtemV",
        "colab_type": "code",
        "outputId": "d0ddc5a7-6921-44d2-990d-5ee96a3ee2f7",
        "colab": {
          "base_uri": "https://localhost:8080/",
          "height": 35
        }
      },
      "source": [
        "# GPU 사용 가능 확인 ( \"/device:GPU:0\" 문자열이 반환되면 GPU 사용 가능함 의미)\n",
        "\n",
        "import tensorflow as tf\n",
        "device_name = tf.test.gpu_device_name()\n",
        "device_name"
      ],
      "execution_count": 0,
      "outputs": [
        {
          "output_type": "execute_result",
          "data": {
            "text/plain": [
              "'/device:GPU:0'"
            ]
          },
          "metadata": {
            "tags": []
          },
          "execution_count": 14
        }
      ]
    },
    {
      "cell_type": "markdown",
      "metadata": {
        "id": "3Y3vIGBX1aSe",
        "colab_type": "text"
      },
      "source": [
        "# 케라스 설치"
      ]
    },
    {
      "cell_type": "code",
      "metadata": {
        "id": "TNGoZWuCuF0W",
        "colab_type": "code",
        "outputId": "9f0a893a-657e-42ab-c7db-f72372c3b3aa",
        "colab": {
          "base_uri": "https://localhost:8080/",
          "height": 125
        }
      },
      "source": [
        "! pip install keras"
      ],
      "execution_count": 0,
      "outputs": [
        {
          "output_type": "stream",
          "text": [
            "Requirement already satisfied: keras in /usr/local/lib/python3.6/dist-packages (2.1.6)\r\n",
            "Requirement already satisfied: pyyaml in /usr/local/lib/python3.6/dist-packages (from keras) (3.13)\r\n",
            "Requirement already satisfied: numpy>=1.9.1 in /usr/local/lib/python3.6/dist-packages (from keras) (1.14.5)\r\n",
            "Requirement already satisfied: h5py in /usr/local/lib/python3.6/dist-packages (from keras) (2.8.0)\n",
            "Requirement already satisfied: six>=1.9.0 in /usr/local/lib/python3.6/dist-packages (from keras) (1.11.0)\n",
            "Requirement already satisfied: scipy>=0.14 in /usr/local/lib/python3.6/dist-packages (from keras) (0.19.1)\n"
          ],
          "name": "stdout"
        }
      ]
    },
    {
      "cell_type": "markdown",
      "metadata": {
        "id": "GKrMJc4vIekh",
        "colab_type": "text"
      },
      "source": [
        "# 케라스 MNIST(손글씨 인식)\n",
        "\n",
        "keras-tutorial<br>\n",
        "https://elitedatascience.com/keras-tutorial-deep-learning-in-python"
      ]
    },
    {
      "cell_type": "code",
      "metadata": {
        "id": "PNrNBrQ0uJYc",
        "colab_type": "code",
        "outputId": "ee584acc-d87f-48e6-cdcf-3408308f7049",
        "colab": {
          "base_uri": "https://localhost:8080/",
          "height": 102
        }
      },
      "source": [
        "from keras.models import Sequential\n",
        "from keras.layers import Dense, Dropout, Activation, Flatten\n",
        "from keras.layers import Convolution2D, MaxPooling2D\n",
        "from keras.datasets import mnist\n",
        "from keras.utils import np_utils\n",
        "import matplotlib.pyplot as plt\n",
        "from datetime import  datetime\n",
        "\n",
        "(X_train, y_train), (X_test, y_test) = mnist.load_data()\n",
        "\n",
        "print(\"X_train shape\", X_train.shape)\n",
        "print(\"y_train shape\", y_train.shape)"
      ],
      "execution_count": 0,
      "outputs": [
        {
          "output_type": "stream",
          "text": [
            "Using TensorFlow backend.\n"
          ],
          "name": "stderr"
        },
        {
          "output_type": "stream",
          "text": [
            "Downloading data from https://s3.amazonaws.com/img-datasets/mnist.npz\n",
            "11493376/11490434 [==============================] - 1s 0us/step\n",
            "X_train shape (60000, 28, 28)\n",
            "y_train shape (60000,)\n"
          ],
          "name": "stdout"
        }
      ]
    },
    {
      "cell_type": "code",
      "metadata": {
        "id": "pmddnJc1_d4G",
        "colab_type": "code",
        "outputId": "fdeef8a6-342e-465f-8229-e547af47b8f3",
        "colab": {
          "base_uri": "https://localhost:8080/",
          "height": 362
        }
      },
      "source": [
        "\n",
        "for i in range(9):\n",
        "    plt.subplot(3,3,i+1)\n",
        "    plt.imshow(X_train[i], cmap='gray', interpolation='none')\n",
        "    plt.title(\"Class {}\".format(y_train[i]))"
      ],
      "execution_count": 0,
      "outputs": [
        {
          "output_type": "display_data",
          "data": {
            "image/png": "[encoded data removed]",
            "text/plain": [
              "<matplotlib.figure.Figure at 0x7f2d73aad048>"
            ]
          },
          "metadata": {
            "tags": []
          }
        }
      ]
    },
    {
      "cell_type": "code",
      "metadata": {
        "id": "TzC9WhFHLIl3",
        "colab_type": "code",
        "outputId": "ad23f729-5659-4b09-d79c-fce3a1a3acb5",
        "colab": {
          "base_uri": "https://localhost:8080/",
          "height": 395
        }
      },
      "source": [
        "X_train = X_train.reshape(X_train.shape[0], 1, 28, 28)\n",
        "X_test = X_test.reshape(X_test.shape[0], 1, 28, 28)\n",
        "X_train = X_train.astype('float32')\n",
        "X_test = X_test.astype('float32')\n",
        "X_train /= 255\n",
        "X_test /= 255\n",
        " \n",
        "Y_train = np_utils.to_categorical(y_train, 10)\n",
        "Y_test = np_utils.to_categorical(y_test, 10)\n",
        " \n",
        "model = Sequential()\n",
        "model.add(Convolution2D(32, (3, 3), activation='relu', \n",
        "                        input_shape=(1,28,28), \n",
        "                        data_format='channels_first'))\n",
        "model.add(Convolution2D(32, (3, 3), activation='relu'))\n",
        "model.add(MaxPooling2D(pool_size=(2,2)))\n",
        "model.add(Dropout(0.25))\n",
        " \n",
        "model.add(Flatten())\n",
        "model.add(Dense(128, activation='relu'))\n",
        "model.add(Dropout(0.5))\n",
        "model.add(Dense(10, activation='softmax'))\n",
        " \n",
        "model.compile(loss='categorical_crossentropy',\n",
        "              optimizer='adam',\n",
        "              metrics=['accuracy'])\n",
        " \n",
        "start = datetime.now()\n",
        "model.fit(X_train, Y_train, \n",
        "          batch_size=32, epochs=10, verbose=1)\n",
        "\n",
        "print('Elapsed time :', datetime.now() - start)"
      ],
      "execution_count": 0,
      "outputs": [
        {
          "output_type": "stream",
          "text": [
            "Epoch 1/10\n",
            "60000/60000 [==============================] - 23s 391us/step - loss: 0.2560 - acc: 0.9225\n",
            "Epoch 2/10\n",
            "50464/60000 [========================>.....] - ETA: 3s - loss: 0.1088 - acc: 0.9693"
          ],
          "name": "stdout"
        },
        {
          "output_type": "stream",
          "text": [
            "60000/60000 [==============================] - 22s 368us/step - loss: 0.1063 - acc: 0.9697\n",
            "Epoch 3/10\n",
            "60000/60000 [==============================] - 22s 367us/step - loss: 0.0833 - acc: 0.9743\n",
            "Epoch 4/10\n",
            "12832/60000 [=====>........................] - ETA: 17s - loss: 0.0620 - acc: 0.9793"
          ],
          "name": "stdout"
        },
        {
          "output_type": "stream",
          "text": [
            "60000/60000 [==============================] - 22s 366us/step - loss: 0.0668 - acc: 0.9793\n",
            "Epoch 5/10\n",
            "60000/60000 [==============================] - 22s 370us/step - loss: 0.0582 - acc: 0.9819\n",
            "Epoch 6/10\n",
            " 1120/60000 [..............................] - ETA: 24s - loss: 0.0323 - acc: 0.9929"
          ],
          "name": "stdout"
        },
        {
          "output_type": "stream",
          "text": [
            "60000/60000 [==============================] - 26s 430us/step - loss: 0.0535 - acc: 0.9835\n",
            "Epoch 7/10\n",
            "53152/60000 [=========================>....] - ETA: 2s - loss: 0.0444 - acc: 0.9867"
          ],
          "name": "stdout"
        },
        {
          "output_type": "stream",
          "text": [
            "60000/60000 [==============================] - 22s 367us/step - loss: 0.0453 - acc: 0.9864\n",
            "Epoch 8/10\n",
            "60000/60000 [==============================] - 23s 387us/step - loss: 0.0412 - acc: 0.9873\n",
            "Epoch 9/10\n",
            " 8960/60000 [===>..........................] - ETA: 23s - loss: 0.0373 - acc: 0.9873"
          ],
          "name": "stdout"
        },
        {
          "output_type": "stream",
          "text": [
            "60000/60000 [==============================] - 25s 424us/step - loss: 0.0382 - acc: 0.9877\n",
            "Epoch 10/10\n",
            "57664/60000 [===========================>..] - ETA: 0s - loss: 0.0367 - acc: 0.9883"
          ],
          "name": "stdout"
        },
        {
          "output_type": "stream",
          "text": [
            "60000/60000 [==============================] - 22s 366us/step - loss: 0.0368 - acc: 0.9883\n",
            "Elapsed time : 0:03:50.688217\n"
          ],
          "name": "stdout"
        }
      ]
    },
    {
      "cell_type": "code",
      "metadata": {
        "id": "N9sMJI8NNEWt",
        "colab_type": "code",
        "outputId": "fb1f54ec-526e-49f2-8438-6176d208dba4",
        "colab": {
          "base_uri": "https://localhost:8080/",
          "height": 53
        }
      },
      "source": [
        "score = model.evaluate(X_test, Y_test, verbose=0)\n",
        "\n",
        "print('Test score:', score[0])\n",
        "print('Test accuracy:', score[1])"
      ],
      "execution_count": 0,
      "outputs": [
        {
          "output_type": "stream",
          "text": [
            "Test score: 0.03532899316247112\n",
            "Test accuracy: 0.9892\n"
          ],
          "name": "stdout"
        }
      ]
    },
    {
      "cell_type": "markdown",
      "metadata": {
        "id": "tXhGQFI-NuPn",
        "colab_type": "text"
      },
      "source": [
        "# 결론\n",
        "* 사양: 40G 저장공간, 2코어 2.3GHz CPU, 13G 메모리\n",
        "* 환경: 우분투 17.10, 파이썬 2.7, 파이썬  3.6 지원\n",
        "* Tensorflow, SciKit learn 등 다양한 라이브러리 기본 설치 + GPU 지원\n",
        "* CNN 예제 GPU 미사용시 46분 57초, GPU사용시 3분 42초 소요 (10배 이상 빠르다) \n",
        "* Keras, pandas_datareader 등 필요한 패키지 추가 설치 가능 (pip)\n",
        "* 장시간 사용하지 않으면, 런타임 재할당\n",
        "* 구글 드라이브의 공유와 동시 편집기능은 협업에 매우 유용\n",
        "\n",
        "\n",
        "※ 본 문서 자체가 구글 드라이브에서 생성하고 작성한 문서"
      ]
    },
    {
      "cell_type": "markdown",
      "metadata": {
        "id": "B-vGPr5kNuR6",
        "colab_type": "text"
      },
      "source": [
        "\n",
        "---\n",
        "\n",
        "\n",
        "### 2018 FinanceData.KR [facebook.com/financedata](http://facebook.com/financedata)"
      ]
    }
  ]
}